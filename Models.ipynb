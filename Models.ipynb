{
 "cells": [
  {
   "cell_type": "code",
   "execution_count": 1,
   "metadata": {},
   "outputs": [],
   "source": [
    "import pandas as pd\n",
    "import numpy as np\n",
    "from matplotlib import pyplot as plt"
   ]
  },
  {
   "cell_type": "code",
   "execution_count": 2,
   "metadata": {},
   "outputs": [],
   "source": [
    "#import data\n",
    "df = pd.read_csv('app.csv')"
   ]
  },
  {
   "cell_type": "code",
   "execution_count": 3,
   "metadata": {},
   "outputs": [
    {
     "data": {
      "text/html": [
       "<div>\n",
       "<style scoped>\n",
       "    .dataframe tbody tr th:only-of-type {\n",
       "        vertical-align: middle;\n",
       "    }\n",
       "\n",
       "    .dataframe tbody tr th {\n",
       "        vertical-align: top;\n",
       "    }\n",
       "\n",
       "    .dataframe thead th {\n",
       "        text-align: right;\n",
       "    }\n",
       "</style>\n",
       "<table border=\"1\" class=\"dataframe\">\n",
       "  <thead>\n",
       "    <tr style=\"text-align: right;\">\n",
       "      <th></th>\n",
       "      <th>record</th>\n",
       "      <th>date</th>\n",
       "      <th>ssn</th>\n",
       "      <th>firstname</th>\n",
       "      <th>lastname</th>\n",
       "      <th>address</th>\n",
       "      <th>zip5</th>\n",
       "      <th>dob</th>\n",
       "      <th>homephone</th>\n",
       "      <th>fraud_label</th>\n",
       "    </tr>\n",
       "  </thead>\n",
       "  <tbody>\n",
       "    <tr>\n",
       "      <th>0</th>\n",
       "      <td>1</td>\n",
       "      <td>20160101</td>\n",
       "      <td>379070012</td>\n",
       "      <td>XRRAMMTR</td>\n",
       "      <td>SMJETJMJ</td>\n",
       "      <td>6861 EUTST PL</td>\n",
       "      <td>2765</td>\n",
       "      <td>19070626</td>\n",
       "      <td>1797504115</td>\n",
       "      <td>0</td>\n",
       "    </tr>\n",
       "    <tr>\n",
       "      <th>1</th>\n",
       "      <td>2</td>\n",
       "      <td>20160101</td>\n",
       "      <td>387482503</td>\n",
       "      <td>MAMSTUJR</td>\n",
       "      <td>RTTEMRRR</td>\n",
       "      <td>7280 URASA PL</td>\n",
       "      <td>57169</td>\n",
       "      <td>19340615</td>\n",
       "      <td>4164239415</td>\n",
       "      <td>1</td>\n",
       "    </tr>\n",
       "    <tr>\n",
       "      <th>2</th>\n",
       "      <td>3</td>\n",
       "      <td>20160101</td>\n",
       "      <td>200332444</td>\n",
       "      <td>SZMMUJEZS</td>\n",
       "      <td>EUSEZRAE</td>\n",
       "      <td>5581 RSREX LN</td>\n",
       "      <td>56721</td>\n",
       "      <td>19070626</td>\n",
       "      <td>216537580</td>\n",
       "      <td>0</td>\n",
       "    </tr>\n",
       "    <tr>\n",
       "      <th>3</th>\n",
       "      <td>4</td>\n",
       "      <td>20160101</td>\n",
       "      <td>747451317</td>\n",
       "      <td>SJJZSXRSZ</td>\n",
       "      <td>ETJXTXXS</td>\n",
       "      <td>1387 UJZXJ RD</td>\n",
       "      <td>35286</td>\n",
       "      <td>19440430</td>\n",
       "      <td>132144161</td>\n",
       "      <td>0</td>\n",
       "    </tr>\n",
       "    <tr>\n",
       "      <th>4</th>\n",
       "      <td>5</td>\n",
       "      <td>20160101</td>\n",
       "      <td>24065868</td>\n",
       "      <td>SSSXUEJMS</td>\n",
       "      <td>SSUUJXUZ</td>\n",
       "      <td>279 EAASA WY</td>\n",
       "      <td>3173</td>\n",
       "      <td>19980315</td>\n",
       "      <td>6101082272</td>\n",
       "      <td>0</td>\n",
       "    </tr>\n",
       "  </tbody>\n",
       "</table>\n",
       "</div>"
      ],
      "text/plain": [
       "   record      date        ssn  firstname  lastname        address   zip5  \\\n",
       "0       1  20160101  379070012   XRRAMMTR  SMJETJMJ  6861 EUTST PL   2765   \n",
       "1       2  20160101  387482503   MAMSTUJR  RTTEMRRR  7280 URASA PL  57169   \n",
       "2       3  20160101  200332444  SZMMUJEZS  EUSEZRAE  5581 RSREX LN  56721   \n",
       "3       4  20160101  747451317  SJJZSXRSZ  ETJXTXXS  1387 UJZXJ RD  35286   \n",
       "4       5  20160101   24065868  SSSXUEJMS  SSUUJXUZ   279 EAASA WY   3173   \n",
       "\n",
       "        dob   homephone  fraud_label  \n",
       "0  19070626  1797504115            0  \n",
       "1  19340615  4164239415            1  \n",
       "2  19070626   216537580            0  \n",
       "3  19440430   132144161            0  \n",
       "4  19980315  6101082272            0  "
      ]
     },
     "execution_count": 3,
     "metadata": {},
     "output_type": "execute_result"
    }
   ],
   "source": [
    "df.head()"
   ]
  },
  {
   "cell_type": "markdown",
   "metadata": {},
   "source": [
    "### Fix Frivolous Values and Clean Data"
   ]
  },
  {
   "cell_type": "code",
   "execution_count": 4,
   "metadata": {},
   "outputs": [],
   "source": [
    "#datatype\n",
    "df['date'] = pd.to_datetime(df.date.astype(str).apply(lambda x: x[:4] + '-' + x[4:6] + '-' + x[6:]))\n",
    "df['zip5'].apply(lambda x: '{0:0>5}'.format(x))\n",
    "\n",
    "#frivolous values\n",
    "\n",
    "#ssn\n",
    "df.loc[df.ssn==999999999, 'ssn'] = -df[df.ssn==999999999]['record']\n",
    "df['ssn'] = df['ssn'].apply(lambda x: '{0:0>9}'.format(x))\n",
    "\n",
    "#address\n",
    "df.loc[df.address== '123 MAIN ST', 'address'] = \\\n",
    "    df.loc[df.address== '123 MAIN ST', 'address'].apply(lambda x: str(x) + ' RECORD')\n",
    "\n",
    "#dob\n",
    "df.loc[df.dob==19070626, 'dob'] = -df[df.dob==19070626]['record']\n",
    "df['dob'] = df['dob'].apply(lambda x: '{0:0>8}'.format(x))\n",
    "\n",
    "#homephone\n",
    "df.loc[df.homephone==9999999999, 'homephone'] = -df[df.homephone==9999999999]['record']\n",
    "df['homephone'] = df['homephone'].apply(lambda x: '{0:0>10}'.format(x))"
   ]
  },
  {
   "cell_type": "code",
   "execution_count": 5,
   "metadata": {},
   "outputs": [],
   "source": [
    "df['zip5'] = df['zip5'].apply(str)"
   ]
  },
  {
   "cell_type": "markdown",
   "metadata": {},
   "source": [
    "### Create Entities"
   ]
  },
  {
   "cell_type": "code",
   "execution_count": 6,
   "metadata": {
    "scrolled": true
   },
   "outputs": [],
   "source": [
    "df['name'] = df.firstname + df.lastname\n",
    "df['fulladdress'] = df.address + df.zip5\n",
    "df['name_dob'] = df.name + df.dob\n",
    "df['name_fulladdress'] = df.name + df.fulladdress\n",
    "df['name_homephone'] = df.name + df.homephone\n",
    "df['fulladdress_dob'] = df.fulladdress + df.dob\n",
    "df['fulladdress_homephone'] = df.fulladdress + df.homephone\n",
    "df['dob_homephone'] = df.dob + df.homephone\n",
    "df['homephone_name_dob'] = df.homephone + df.name_dob"
   ]
  },
  {
   "cell_type": "code",
   "execution_count": 7,
   "metadata": {},
   "outputs": [],
   "source": [
    "#create a bunch more columns for pairings of other columns and ssn\n",
    "for field in list(df.iloc[:, np.r_[3:9, 12:15]].columns):\n",
    "    df['ssn_' + field] = df.ssn + df[field]"
   ]
  },
  {
   "cell_type": "code",
   "execution_count": 8,
   "metadata": {},
   "outputs": [
    {
     "data": {
      "text/plain": [
       "['ssn',\n",
       " 'address',\n",
       " 'zip5',\n",
       " 'dob',\n",
       " 'homephone',\n",
       " 'name',\n",
       " 'fulladdress',\n",
       " 'name_dob',\n",
       " 'name_fulladdress',\n",
       " 'name_homephone',\n",
       " 'fulladdress_dob',\n",
       " 'fulladdress_homephone',\n",
       " 'dob_homephone',\n",
       " 'homephone_name_dob',\n",
       " 'ssn_firstname',\n",
       " 'ssn_lastname',\n",
       " 'ssn_address',\n",
       " 'ssn_zip5',\n",
       " 'ssn_dob',\n",
       " 'ssn_homephone',\n",
       " 'ssn_name_dob',\n",
       " 'ssn_name_fulladdress',\n",
       " 'ssn_name_homephone']"
      ]
     },
     "execution_count": 8,
     "metadata": {},
     "output_type": "execute_result"
    }
   ],
   "source": [
    "attributes = list(df.iloc[:, np.r_[2,5,6,7,8,10,11,12:28]].columns)\n",
    "attributes"
   ]
  },
  {
   "cell_type": "markdown",
   "metadata": {},
   "source": [
    "### Risk Table for Day of Week"
   ]
  },
  {
   "cell_type": "code",
   "execution_count": 9,
   "metadata": {},
   "outputs": [],
   "source": [
    "import calendar\n",
    "df['dow'] = df.date.apply(lambda x: calendar.day_name[x.weekday()])"
   ]
  },
  {
   "cell_type": "code",
   "execution_count": 10,
   "metadata": {},
   "outputs": [],
   "source": [
    "train_test = df[df.date < '2016-11-01']"
   ]
  },
  {
   "cell_type": "code",
   "execution_count": 11,
   "metadata": {},
   "outputs": [],
   "source": [
    "#do statistical smoothing\n",
    "c = 4; nmid=20; y_avg = train_test['fraud_label'].mean()\n",
    "y_dow = train_test.groupby('dow')['fraud_label'].mean()\n",
    "num = train_test.groupby('dow').size()\n",
    "y_dow_smooth = y_avg + (y_dow - y_avg)/(1+ np.exp(-(num-nmid)/c))\n",
    "df['dow_risk'] = df.dow.map(y_dow_smooth)"
   ]
  },
  {
   "cell_type": "markdown",
   "metadata": {},
   "source": [
    "## Create Variables"
   ]
  },
  {
   "cell_type": "markdown",
   "metadata": {},
   "source": [
    "### Velocity + Day Since"
   ]
  },
  {
   "cell_type": "code",
   "execution_count": 12,
   "metadata": {},
   "outputs": [],
   "source": [
    "df1 = df.copy()\n",
    "final = df.copy()\n",
    "df1['check_date'] = df1.date\n",
    "df1['check_record'] = df1.record"
   ]
  },
  {
   "cell_type": "code",
   "execution_count": 13,
   "metadata": {},
   "outputs": [
    {
     "name": "stdout",
     "output_type": "stream",
     "text": [
      "\n",
      "ssn_day_since -----> Done\n",
      "ssn_count_0-----> Done\n",
      "ssn_count_1-----> Done\n",
      "ssn_count_3-----> Done\n",
      "ssn_count_7-----> Done\n",
      "ssn_count_14-----> Done\n",
      "ssn_count_30-----> Done\n",
      "\n",
      "address_day_since -----> Done\n",
      "address_count_0-----> Done\n",
      "address_count_1-----> Done\n",
      "address_count_3-----> Done\n",
      "address_count_7-----> Done\n",
      "address_count_14-----> Done\n",
      "address_count_30-----> Done\n",
      "\n",
      "zip5_day_since -----> Done\n",
      "zip5_count_0-----> Done\n",
      "zip5_count_1-----> Done\n",
      "zip5_count_3-----> Done\n",
      "zip5_count_7-----> Done\n",
      "zip5_count_14-----> Done\n",
      "zip5_count_30-----> Done\n",
      "\n",
      "dob_day_since -----> Done\n",
      "dob_count_0-----> Done\n",
      "dob_count_1-----> Done\n",
      "dob_count_3-----> Done\n",
      "dob_count_7-----> Done\n",
      "dob_count_14-----> Done\n",
      "dob_count_30-----> Done\n",
      "\n",
      "homephone_day_since -----> Done\n",
      "homephone_count_0-----> Done\n",
      "homephone_count_1-----> Done\n",
      "homephone_count_3-----> Done\n",
      "homephone_count_7-----> Done\n",
      "homephone_count_14-----> Done\n",
      "homephone_count_30-----> Done\n",
      "\n",
      "name_day_since -----> Done\n",
      "name_count_0-----> Done\n",
      "name_count_1-----> Done\n",
      "name_count_3-----> Done\n",
      "name_count_7-----> Done\n",
      "name_count_14-----> Done\n",
      "name_count_30-----> Done\n",
      "\n",
      "fulladdress_day_since -----> Done\n",
      "fulladdress_count_0-----> Done\n",
      "fulladdress_count_1-----> Done\n",
      "fulladdress_count_3-----> Done\n",
      "fulladdress_count_7-----> Done\n",
      "fulladdress_count_14-----> Done\n",
      "fulladdress_count_30-----> Done\n",
      "\n",
      "name_dob_day_since -----> Done\n",
      "name_dob_count_0-----> Done\n",
      "name_dob_count_1-----> Done\n",
      "name_dob_count_3-----> Done\n",
      "name_dob_count_7-----> Done\n",
      "name_dob_count_14-----> Done\n",
      "name_dob_count_30-----> Done\n",
      "\n",
      "name_fulladdress_day_since -----> Done\n",
      "name_fulladdress_count_0-----> Done\n",
      "name_fulladdress_count_1-----> Done\n",
      "name_fulladdress_count_3-----> Done\n",
      "name_fulladdress_count_7-----> Done\n",
      "name_fulladdress_count_14-----> Done\n",
      "name_fulladdress_count_30-----> Done\n",
      "\n",
      "name_homephone_day_since -----> Done\n",
      "name_homephone_count_0-----> Done\n",
      "name_homephone_count_1-----> Done\n",
      "name_homephone_count_3-----> Done\n",
      "name_homephone_count_7-----> Done\n",
      "name_homephone_count_14-----> Done\n",
      "name_homephone_count_30-----> Done\n",
      "\n",
      "fulladdress_dob_day_since -----> Done\n",
      "fulladdress_dob_count_0-----> Done\n",
      "fulladdress_dob_count_1-----> Done\n",
      "fulladdress_dob_count_3-----> Done\n",
      "fulladdress_dob_count_7-----> Done\n",
      "fulladdress_dob_count_14-----> Done\n",
      "fulladdress_dob_count_30-----> Done\n",
      "\n",
      "fulladdress_homephone_day_since -----> Done\n",
      "fulladdress_homephone_count_0-----> Done\n",
      "fulladdress_homephone_count_1-----> Done\n",
      "fulladdress_homephone_count_3-----> Done\n",
      "fulladdress_homephone_count_7-----> Done\n",
      "fulladdress_homephone_count_14-----> Done\n",
      "fulladdress_homephone_count_30-----> Done\n",
      "\n",
      "dob_homephone_day_since -----> Done\n",
      "dob_homephone_count_0-----> Done\n",
      "dob_homephone_count_1-----> Done\n",
      "dob_homephone_count_3-----> Done\n",
      "dob_homephone_count_7-----> Done\n",
      "dob_homephone_count_14-----> Done\n",
      "dob_homephone_count_30-----> Done\n",
      "\n",
      "homephone_name_dob_day_since -----> Done\n",
      "homephone_name_dob_count_0-----> Done\n",
      "homephone_name_dob_count_1-----> Done\n",
      "homephone_name_dob_count_3-----> Done\n",
      "homephone_name_dob_count_7-----> Done\n",
      "homephone_name_dob_count_14-----> Done\n",
      "homephone_name_dob_count_30-----> Done\n",
      "\n",
      "ssn_firstname_day_since -----> Done\n",
      "ssn_firstname_count_0-----> Done\n",
      "ssn_firstname_count_1-----> Done\n",
      "ssn_firstname_count_3-----> Done\n",
      "ssn_firstname_count_7-----> Done\n",
      "ssn_firstname_count_14-----> Done\n",
      "ssn_firstname_count_30-----> Done\n",
      "\n",
      "ssn_lastname_day_since -----> Done\n",
      "ssn_lastname_count_0-----> Done\n",
      "ssn_lastname_count_1-----> Done\n",
      "ssn_lastname_count_3-----> Done\n",
      "ssn_lastname_count_7-----> Done\n",
      "ssn_lastname_count_14-----> Done\n",
      "ssn_lastname_count_30-----> Done\n",
      "\n",
      "ssn_address_day_since -----> Done\n",
      "ssn_address_count_0-----> Done\n",
      "ssn_address_count_1-----> Done\n",
      "ssn_address_count_3-----> Done\n",
      "ssn_address_count_7-----> Done\n",
      "ssn_address_count_14-----> Done\n",
      "ssn_address_count_30-----> Done\n",
      "\n",
      "ssn_zip5_day_since -----> Done\n",
      "ssn_zip5_count_0-----> Done\n",
      "ssn_zip5_count_1-----> Done\n",
      "ssn_zip5_count_3-----> Done\n",
      "ssn_zip5_count_7-----> Done\n",
      "ssn_zip5_count_14-----> Done\n",
      "ssn_zip5_count_30-----> Done\n",
      "\n",
      "ssn_dob_day_since -----> Done\n",
      "ssn_dob_count_0-----> Done\n",
      "ssn_dob_count_1-----> Done\n",
      "ssn_dob_count_3-----> Done\n",
      "ssn_dob_count_7-----> Done\n",
      "ssn_dob_count_14-----> Done\n",
      "ssn_dob_count_30-----> Done\n",
      "\n",
      "ssn_homephone_day_since -----> Done\n",
      "ssn_homephone_count_0-----> Done\n",
      "ssn_homephone_count_1-----> Done\n",
      "ssn_homephone_count_3-----> Done\n",
      "ssn_homephone_count_7-----> Done\n",
      "ssn_homephone_count_14-----> Done\n",
      "ssn_homephone_count_30-----> Done\n",
      "\n",
      "ssn_name_dob_day_since -----> Done\n",
      "ssn_name_dob_count_0-----> Done\n",
      "ssn_name_dob_count_1-----> Done\n",
      "ssn_name_dob_count_3-----> Done\n",
      "ssn_name_dob_count_7-----> Done\n",
      "ssn_name_dob_count_14-----> Done\n",
      "ssn_name_dob_count_30-----> Done\n",
      "\n",
      "ssn_name_fulladdress_day_since -----> Done\n",
      "ssn_name_fulladdress_count_0-----> Done\n",
      "ssn_name_fulladdress_count_1-----> Done\n",
      "ssn_name_fulladdress_count_3-----> Done\n",
      "ssn_name_fulladdress_count_7-----> Done\n",
      "ssn_name_fulladdress_count_14-----> Done\n",
      "ssn_name_fulladdress_count_30-----> Done\n",
      "\n",
      "ssn_name_homephone_day_since -----> Done\n",
      "ssn_name_homephone_count_0-----> Done\n",
      "ssn_name_homephone_count_1-----> Done\n",
      "ssn_name_homephone_count_3-----> Done\n",
      "ssn_name_homephone_count_7-----> Done\n",
      "ssn_name_homephone_count_14-----> Done\n",
      "ssn_name_homephone_count_30-----> Done\n"
     ]
    }
   ],
   "source": [
    "import datetime as dt\n",
    "#start = timer()\n",
    "for entity in attributes:\n",
    "    #st = timer()\n",
    "    df_1 = df1[['record', 'date', entity]]\n",
    "    df_r = df1[['check_record', 'check_date', entity]]\n",
    "    temp = pd.merge(df_1, df_r, left_on = entity, right_on = entity)\n",
    "    \n",
    "    #days since\n",
    "    day_since_df = temp[temp.record > temp.check_record][['record', 'date', 'check_date']] \\\n",
    "    .groupby('record')[['date', 'check_date']].last()\n",
    "    mapper = (day_since_df.date - day_since_df.check_date).dt.days\n",
    "    final[entity + '_day_since'] = final.record.map(mapper)\n",
    "    final[entity + '_day_since'].fillna(365, inplace = True)\n",
    "    print(f'\\n{entity}_day_since -----> Done')\n",
    "    \n",
    "    #velocity\n",
    "    for offset_t in [0,1,3,7,14,30]:\n",
    "        count_day_df = temp[(temp.check_date >= (temp.date - dt.timedelta(offset_t)))\n",
    "                           & (temp.record >= temp.check_record)]\n",
    "        col_name = f'{entity}_count_{offset_t}'\n",
    "        mapper2 = count_day_df.groupby('record')[entity].count()\n",
    "        final[col_name] = final.record.map(mapper2)\n",
    "        \n",
    "        print(f'{entity}_count_{str(offset_t)}-----> Done')\n",
    "        \n",
    "    #print(f' Run time for entity {entity} ------------ {timer() - st:0.2f}s')\n",
    "    \n",
    "#print(f'Total run time: {(timer() - start) / 60:0.2f}min')"
   ]
  },
  {
   "cell_type": "markdown",
   "metadata": {},
   "source": [
    "### Relative Velocity"
   ]
  },
  {
   "cell_type": "code",
   "execution_count": 14,
   "metadata": {},
   "outputs": [],
   "source": [
    "for att in attributes: \n",
    "    for d in ['0','1']:\n",
    "        for dd in ['3','7','14','30']:\n",
    "            final[att + '_count_' + d + '_by_' + dd]\\\n",
    "            = final[att + '_count_' + d] /  (final[att + '_count_' + dd] / float(dd))"
   ]
  },
  {
   "cell_type": "code",
   "execution_count": 15,
   "metadata": {
    "scrolled": true
   },
   "outputs": [
    {
     "data": {
      "text/html": [
       "<div>\n",
       "<style scoped>\n",
       "    .dataframe tbody tr th:only-of-type {\n",
       "        vertical-align: middle;\n",
       "    }\n",
       "\n",
       "    .dataframe tbody tr th {\n",
       "        vertical-align: top;\n",
       "    }\n",
       "\n",
       "    .dataframe thead th {\n",
       "        text-align: right;\n",
       "    }\n",
       "</style>\n",
       "<table border=\"1\" class=\"dataframe\">\n",
       "  <thead>\n",
       "    <tr style=\"text-align: right;\">\n",
       "      <th></th>\n",
       "      <th>record</th>\n",
       "      <th>date</th>\n",
       "      <th>ssn</th>\n",
       "      <th>firstname</th>\n",
       "      <th>lastname</th>\n",
       "      <th>address</th>\n",
       "      <th>zip5</th>\n",
       "      <th>dob</th>\n",
       "      <th>homephone</th>\n",
       "      <th>fraud_label</th>\n",
       "      <th>...</th>\n",
       "      <th>ssn_name_fulladdress_count_1_by_14</th>\n",
       "      <th>ssn_name_fulladdress_count_1_by_30</th>\n",
       "      <th>ssn_name_homephone_count_0_by_3</th>\n",
       "      <th>ssn_name_homephone_count_0_by_7</th>\n",
       "      <th>ssn_name_homephone_count_0_by_14</th>\n",
       "      <th>ssn_name_homephone_count_0_by_30</th>\n",
       "      <th>ssn_name_homephone_count_1_by_3</th>\n",
       "      <th>ssn_name_homephone_count_1_by_7</th>\n",
       "      <th>ssn_name_homephone_count_1_by_14</th>\n",
       "      <th>ssn_name_homephone_count_1_by_30</th>\n",
       "    </tr>\n",
       "  </thead>\n",
       "  <tbody>\n",
       "    <tr>\n",
       "      <th>0</th>\n",
       "      <td>1</td>\n",
       "      <td>2016-01-01</td>\n",
       "      <td>379070012</td>\n",
       "      <td>XRRAMMTR</td>\n",
       "      <td>SMJETJMJ</td>\n",
       "      <td>6861 EUTST PL</td>\n",
       "      <td>2765</td>\n",
       "      <td>000000-1</td>\n",
       "      <td>1797504115</td>\n",
       "      <td>0</td>\n",
       "      <td>...</td>\n",
       "      <td>14.0</td>\n",
       "      <td>30.0</td>\n",
       "      <td>3.0</td>\n",
       "      <td>7.0</td>\n",
       "      <td>14.0</td>\n",
       "      <td>30.0</td>\n",
       "      <td>3.0</td>\n",
       "      <td>7.0</td>\n",
       "      <td>14.0</td>\n",
       "      <td>30.0</td>\n",
       "    </tr>\n",
       "    <tr>\n",
       "      <th>1</th>\n",
       "      <td>2</td>\n",
       "      <td>2016-01-01</td>\n",
       "      <td>387482503</td>\n",
       "      <td>MAMSTUJR</td>\n",
       "      <td>RTTEMRRR</td>\n",
       "      <td>7280 URASA PL</td>\n",
       "      <td>57169</td>\n",
       "      <td>19340615</td>\n",
       "      <td>4164239415</td>\n",
       "      <td>1</td>\n",
       "      <td>...</td>\n",
       "      <td>14.0</td>\n",
       "      <td>30.0</td>\n",
       "      <td>3.0</td>\n",
       "      <td>7.0</td>\n",
       "      <td>14.0</td>\n",
       "      <td>30.0</td>\n",
       "      <td>3.0</td>\n",
       "      <td>7.0</td>\n",
       "      <td>14.0</td>\n",
       "      <td>30.0</td>\n",
       "    </tr>\n",
       "    <tr>\n",
       "      <th>2</th>\n",
       "      <td>3</td>\n",
       "      <td>2016-01-01</td>\n",
       "      <td>200332444</td>\n",
       "      <td>SZMMUJEZS</td>\n",
       "      <td>EUSEZRAE</td>\n",
       "      <td>5581 RSREX LN</td>\n",
       "      <td>56721</td>\n",
       "      <td>000000-3</td>\n",
       "      <td>0216537580</td>\n",
       "      <td>0</td>\n",
       "      <td>...</td>\n",
       "      <td>14.0</td>\n",
       "      <td>30.0</td>\n",
       "      <td>3.0</td>\n",
       "      <td>7.0</td>\n",
       "      <td>14.0</td>\n",
       "      <td>30.0</td>\n",
       "      <td>3.0</td>\n",
       "      <td>7.0</td>\n",
       "      <td>14.0</td>\n",
       "      <td>30.0</td>\n",
       "    </tr>\n",
       "    <tr>\n",
       "      <th>3</th>\n",
       "      <td>4</td>\n",
       "      <td>2016-01-01</td>\n",
       "      <td>747451317</td>\n",
       "      <td>SJJZSXRSZ</td>\n",
       "      <td>ETJXTXXS</td>\n",
       "      <td>1387 UJZXJ RD</td>\n",
       "      <td>35286</td>\n",
       "      <td>19440430</td>\n",
       "      <td>0132144161</td>\n",
       "      <td>0</td>\n",
       "      <td>...</td>\n",
       "      <td>14.0</td>\n",
       "      <td>30.0</td>\n",
       "      <td>3.0</td>\n",
       "      <td>7.0</td>\n",
       "      <td>14.0</td>\n",
       "      <td>30.0</td>\n",
       "      <td>3.0</td>\n",
       "      <td>7.0</td>\n",
       "      <td>14.0</td>\n",
       "      <td>30.0</td>\n",
       "    </tr>\n",
       "    <tr>\n",
       "      <th>4</th>\n",
       "      <td>5</td>\n",
       "      <td>2016-01-01</td>\n",
       "      <td>024065868</td>\n",
       "      <td>SSSXUEJMS</td>\n",
       "      <td>SSUUJXUZ</td>\n",
       "      <td>279 EAASA WY</td>\n",
       "      <td>3173</td>\n",
       "      <td>19980315</td>\n",
       "      <td>6101082272</td>\n",
       "      <td>0</td>\n",
       "      <td>...</td>\n",
       "      <td>14.0</td>\n",
       "      <td>30.0</td>\n",
       "      <td>3.0</td>\n",
       "      <td>7.0</td>\n",
       "      <td>14.0</td>\n",
       "      <td>30.0</td>\n",
       "      <td>3.0</td>\n",
       "      <td>7.0</td>\n",
       "      <td>14.0</td>\n",
       "      <td>30.0</td>\n",
       "    </tr>\n",
       "  </tbody>\n",
       "</table>\n",
       "<p>5 rows × 375 columns</p>\n",
       "</div>"
      ],
      "text/plain": [
       "   record       date        ssn  firstname  lastname        address   zip5  \\\n",
       "0       1 2016-01-01  379070012   XRRAMMTR  SMJETJMJ  6861 EUTST PL   2765   \n",
       "1       2 2016-01-01  387482503   MAMSTUJR  RTTEMRRR  7280 URASA PL  57169   \n",
       "2       3 2016-01-01  200332444  SZMMUJEZS  EUSEZRAE  5581 RSREX LN  56721   \n",
       "3       4 2016-01-01  747451317  SJJZSXRSZ  ETJXTXXS  1387 UJZXJ RD  35286   \n",
       "4       5 2016-01-01  024065868  SSSXUEJMS  SSUUJXUZ   279 EAASA WY   3173   \n",
       "\n",
       "        dob   homephone  fraud_label  ... ssn_name_fulladdress_count_1_by_14  \\\n",
       "0  000000-1  1797504115            0  ...                               14.0   \n",
       "1  19340615  4164239415            1  ...                               14.0   \n",
       "2  000000-3  0216537580            0  ...                               14.0   \n",
       "3  19440430  0132144161            0  ...                               14.0   \n",
       "4  19980315  6101082272            0  ...                               14.0   \n",
       "\n",
       "  ssn_name_fulladdress_count_1_by_30 ssn_name_homephone_count_0_by_3  \\\n",
       "0                               30.0                             3.0   \n",
       "1                               30.0                             3.0   \n",
       "2                               30.0                             3.0   \n",
       "3                               30.0                             3.0   \n",
       "4                               30.0                             3.0   \n",
       "\n",
       "  ssn_name_homephone_count_0_by_7 ssn_name_homephone_count_0_by_14  \\\n",
       "0                             7.0                             14.0   \n",
       "1                             7.0                             14.0   \n",
       "2                             7.0                             14.0   \n",
       "3                             7.0                             14.0   \n",
       "4                             7.0                             14.0   \n",
       "\n",
       "  ssn_name_homephone_count_0_by_30 ssn_name_homephone_count_1_by_3  \\\n",
       "0                             30.0                             3.0   \n",
       "1                             30.0                             3.0   \n",
       "2                             30.0                             3.0   \n",
       "3                             30.0                             3.0   \n",
       "4                             30.0                             3.0   \n",
       "\n",
       "  ssn_name_homephone_count_1_by_7 ssn_name_homephone_count_1_by_14  \\\n",
       "0                             7.0                             14.0   \n",
       "1                             7.0                             14.0   \n",
       "2                             7.0                             14.0   \n",
       "3                             7.0                             14.0   \n",
       "4                             7.0                             14.0   \n",
       "\n",
       "  ssn_name_homephone_count_1_by_30  \n",
       "0                             30.0  \n",
       "1                             30.0  \n",
       "2                             30.0  \n",
       "3                             30.0  \n",
       "4                             30.0  \n",
       "\n",
       "[5 rows x 375 columns]"
      ]
     },
     "execution_count": 15,
     "metadata": {},
     "output_type": "execute_result"
    }
   ],
   "source": [
    "final.head()"
   ]
  },
  {
   "cell_type": "code",
   "execution_count": 16,
   "metadata": {},
   "outputs": [],
   "source": [
    "top30final = ['address_count_0',\n",
    " 'address_count_0_by_3',\n",
    " 'address_count_1',\n",
    " 'address_count_7',\n",
    " 'fulladdress_count_0',\n",
    " 'fulladdress_count_0_by_3',\n",
    " 'fulladdress_count_0_by_7',\n",
    " 'fulladdress_count_1',\n",
    " 'fulladdress_count_1_by_7',\n",
    " 'fulladdress_homephone_count_0_by_30',\n",
    " 'fulladdress_homephone_count_3',\n",
    " 'fulladdress_homephone_count_30',\n",
    " 'fulladdress_homephone_count_7',\n",
    " 'homephone_count_3',\n",
    " 'name_dob_count_14',\n",
    " 'name_dob_count_30',\n",
    " 'ssn_count_14',\n",
    " 'ssn_count_30',\n",
    " 'ssn_dob_count_0_by_14',\n",
    " 'ssn_dob_count_14',\n",
    " 'ssn_dob_count_30',\n",
    " 'ssn_firstname_count_14',\n",
    " 'ssn_firstname_count_30',\n",
    " 'ssn_firstname_count_7',\n",
    " 'ssn_lastname_count_14',\n",
    " 'ssn_lastname_count_30',\n",
    " 'ssn_name_dob_count_0_by_30',\n",
    " 'ssn_name_dob_count_14',\n",
    " 'ssn_name_dob_count_30',\n",
    " 'zip5_count_1', 'fraud_label']"
   ]
  },
  {
   "cell_type": "code",
   "execution_count": 17,
   "metadata": {},
   "outputs": [],
   "source": [
    "train_test30 = final[final['date'] < '2016-11-01']\n",
    "oot30 = final[final['date'] >= '2016-11-01']\n",
    "\n",
    "train_test30 = train_test30[top30final]\n",
    "oot30 = oot30[top30final]"
   ]
  },
  {
   "cell_type": "code",
   "execution_count": 18,
   "metadata": {},
   "outputs": [
    {
     "data": {
      "text/plain": [
       "1000000"
      ]
     },
     "execution_count": 18,
     "metadata": {},
     "output_type": "execute_result"
    }
   ],
   "source": [
    "oot30.shape[0] + train_test30.shape[0]"
   ]
  },
  {
   "cell_type": "code",
   "execution_count": 19,
   "metadata": {},
   "outputs": [
    {
     "data": {
      "text/plain": [
       "(833507, 31)"
      ]
     },
     "execution_count": 19,
     "metadata": {},
     "output_type": "execute_result"
    }
   ],
   "source": [
    "train_test30.shape"
   ]
  },
  {
   "cell_type": "code",
   "execution_count": 20,
   "metadata": {},
   "outputs": [],
   "source": [
    "#now we have our train/test set (which we'll now split into training and testing for modeling) \n",
    "#and we have our oot dataset for the 30 top fields that we've selected. \n",
    "\n",
    "from sklearn.model_selection import train_test_split as tts\n",
    "X = train_test30.drop('fraud_label', axis = 1)\n",
    "y = train_test30['fraud_label']\n",
    "\n",
    "X_train, X_test, y_train, y_test = tts(X, y, test_size = .3, stratify = y, random_state = 11)"
   ]
  },
  {
   "cell_type": "markdown",
   "metadata": {},
   "source": [
    "Let's build some models!"
   ]
  },
  {
   "cell_type": "markdown",
   "metadata": {},
   "source": [
    "# Modeling Script Guide"
   ]
  },
  {
   "cell_type": "markdown",
   "metadata": {},
   "source": [
    "1. Start by deciding which and how many models you want to run. \n",
    "2. Delete any model types you don't want to run (for example, if you're only running neural nets, delete the boosted tree, random forest, and logistic regression modeling sections. \n",
    "3. Replace the existing models with your models, or use the existing models and change the hyperparameters. Make sure to use the same functions though.\n",
    "4. Make sure to follow the existing format. Create a training set, test set, and oot set for each model. This is important when iterating through models to calculate FDRs. \n",
    "5. Replace the model names and the model training, test, and oot set names with the ones you used in your modeling in the modlist object below the modeling section. If you used the same names and simply tweaked the hyperparameters around, then just delete the objects you didn't use from the model and set lists. \n",
    "6. Run the rest of the code to get a dataframe where each model is a row, and the model's performance on the training, test, and oot sets occupy the other columns. "
   ]
  },
  {
   "cell_type": "markdown",
   "metadata": {},
   "source": [
    "## Logistic Regression"
   ]
  },
  {
   "cell_type": "code",
   "execution_count": 21,
   "metadata": {},
   "outputs": [],
   "source": [
    "from sklearn.linear_model import LogisticRegression"
   ]
  },
  {
   "cell_type": "code",
   "execution_count": 22,
   "metadata": {},
   "outputs": [],
   "source": [
    "#lr1"
   ]
  },
  {
   "cell_type": "code",
   "execution_count": 23,
   "metadata": {},
   "outputs": [],
   "source": [
    "lr1_X_train = X_train.copy()\n",
    "lr1_X_test = X_test.copy()\n",
    "lr1_oot = oot30.copy().drop('fraud_label', axis=1)\n",
    "lr1 = LogisticRegression(penalty = 'none', max_iter = 2000).fit(lr1_X_train, y_train)"
   ]
  },
  {
   "cell_type": "code",
   "execution_count": 24,
   "metadata": {},
   "outputs": [],
   "source": [
    "#lr2"
   ]
  },
  {
   "cell_type": "code",
   "execution_count": 25,
   "metadata": {},
   "outputs": [],
   "source": [
    "lr2_X_train = X_train.iloc[:, :5]\n",
    "lr2_X_test = X_test.iloc[:,:5]\n",
    "lr2_oot = oot30.iloc[:, :5] \n",
    "lr2 = LogisticRegression(penalty = 'none', max_iter = 2000).fit(lr2_X_train, y_train)"
   ]
  },
  {
   "cell_type": "code",
   "execution_count": 26,
   "metadata": {},
   "outputs": [],
   "source": [
    "#lr3\n",
    "lr3_X_train = X_train.iloc[:, :10]\n",
    "lr3_X_test = X_test.iloc[:,:10]\n",
    "lr3_oot = oot30.iloc[:, :10] \n",
    "lr3 = LogisticRegression(penalty = 'none', max_iter = 2000).fit(lr3_X_train, y_train)"
   ]
  },
  {
   "cell_type": "code",
   "execution_count": 27,
   "metadata": {},
   "outputs": [],
   "source": [
    "#lr4\n",
    "lr4_X_train = X_train.iloc[:, :15]\n",
    "lr4_X_test = X_test.iloc[:,:15]\n",
    "lr4_oot = oot30.iloc[:, :15] \n",
    "lr4 = LogisticRegression(penalty = 'none', max_iter = 2000).fit(lr4_X_train, y_train)"
   ]
  },
  {
   "cell_type": "code",
   "execution_count": 28,
   "metadata": {},
   "outputs": [],
   "source": [
    "#lr5\n",
    "lr5_X_train = X_train.iloc[:, :25]\n",
    "lr5_X_test = X_test.iloc[:,:25]\n",
    "lr5_oot = oot30.iloc[:, :25] \n",
    "lr5 = LogisticRegression(penalty = 'none', max_iter = 2000).fit(lr5_X_train, y_train)"
   ]
  },
  {
   "cell_type": "code",
   "execution_count": 29,
   "metadata": {},
   "outputs": [],
   "source": [
    "#lr6\n",
    "lr6_X_train = X_train.iloc[:, :20]\n",
    "lr6_X_test = X_test.iloc[:,:20]\n",
    "lr6_oot = oot30.iloc[:, :20] \n",
    "lr6 = LogisticRegression(penalty = 'none', max_iter = 2000).fit(lr6_X_train, y_train)"
   ]
  },
  {
   "cell_type": "markdown",
   "metadata": {},
   "source": [
    "### Random Forest"
   ]
  },
  {
   "cell_type": "code",
   "execution_count": 30,
   "metadata": {},
   "outputs": [],
   "source": [
    "from sklearn.ensemble import RandomForestClassifier as RF"
   ]
  },
  {
   "cell_type": "code",
   "execution_count": 31,
   "metadata": {},
   "outputs": [],
   "source": [
    "rf1_X_train = X_train.copy()\n",
    "rf1_X_test = X_test.copy()\n",
    "rf1_oot = oot30.copy().drop('fraud_label', axis=1)\n",
    "rf1 = RF(n_estimators = 50, max_depth = 100).fit(rf1_X_train, y_train)"
   ]
  },
  {
   "cell_type": "code",
   "execution_count": 32,
   "metadata": {},
   "outputs": [],
   "source": [
    "rf2_X_train = X_train.copy()\n",
    "rf2_X_test = X_test.copy()\n",
    "rf2_oot = oot30.copy().drop('fraud_label', axis=1)\n",
    "rf2 = RF(n_estimators = 100, max_depth = 100).fit(rf2_X_train, y_train)"
   ]
  },
  {
   "cell_type": "code",
   "execution_count": 33,
   "metadata": {},
   "outputs": [],
   "source": [
    "rf3_X_train = X_train.copy()\n",
    "rf3_X_test = X_test.copy()\n",
    "rf3_oot = oot30.copy().drop('fraud_label', axis=1)\n",
    "rf3 = RF(n_estimators = 150, max_depth = 100).fit(rf3_X_train, y_train)"
   ]
  },
  {
   "cell_type": "code",
   "execution_count": 34,
   "metadata": {},
   "outputs": [],
   "source": [
    "rf4_X_train = X_train.copy()\n",
    "rf4_X_test = X_test.copy()\n",
    "rf4_oot = oot30.copy().drop('fraud_label', axis=1)\n",
    "rf4 = RF(n_estimators = 100, max_depth = 200).fit(rf4_X_train, y_train)"
   ]
  },
  {
   "cell_type": "code",
   "execution_count": 35,
   "metadata": {},
   "outputs": [],
   "source": [
    "rf5_X_train = X_train.copy()\n",
    "rf5_X_test = X_test.copy()\n",
    "rf5_oot = oot30.copy().drop('fraud_label', axis=1)\n",
    "rf5 = RF(n_estimators = 50, max_depth = 500).fit(rf1_X_train, y_train)"
   ]
  },
  {
   "cell_type": "code",
   "execution_count": 36,
   "metadata": {},
   "outputs": [],
   "source": [
    "rf6_X_train = X_train.copy()\n",
    "rf6_X_test = X_test.copy()\n",
    "rf6_oot = oot30.copy().drop('fraud_label', axis=1)\n",
    "rf6 = RF(n_estimators = 100, min_samples_split = 100).fit(rf6_X_train, y_train)"
   ]
  },
  {
   "cell_type": "code",
   "execution_count": 37,
   "metadata": {},
   "outputs": [],
   "source": [
    "rf7_X_train = X_train.copy()\n",
    "rf7_X_test = X_test.copy()\n",
    "rf7_oot = oot30.copy().drop('fraud_label', axis=1)\n",
    "rf7 = RF(n_estimators = 100, max_depth = 200, criterion = 'entropy').fit(rf7_X_train, y_train)"
   ]
  },
  {
   "cell_type": "markdown",
   "metadata": {},
   "source": [
    "### Neural Net"
   ]
  },
  {
   "cell_type": "code",
   "execution_count": 38,
   "metadata": {},
   "outputs": [],
   "source": [
    "from sklearn.neural_network import MLPClassifier as NN"
   ]
  },
  {
   "cell_type": "code",
   "execution_count": 39,
   "metadata": {},
   "outputs": [
    {
     "name": "stderr",
     "output_type": "stream",
     "text": [
      "C:\\Users\\zapcu\\anaconda3\\new\\lib\\site-packages\\sklearn\\neural_network\\_multilayer_perceptron.py:582: ConvergenceWarning: Stochastic Optimizer: Maximum iterations (20) reached and the optimization hasn't converged yet.\n",
      "  warnings.warn(\n"
     ]
    }
   ],
   "source": [
    "nn1_X_train = X_train.copy()\n",
    "nn1_X_test = X_test.copy()\n",
    "nn1_oot = oot30.copy().drop('fraud_label', axis=1)\n",
    "nn1 = NN(hidden_layer_sizes = (10,), max_iter = 20).fit(nn1_X_train, y_train)"
   ]
  },
  {
   "cell_type": "code",
   "execution_count": 40,
   "metadata": {},
   "outputs": [],
   "source": [
    "nn2_X_train = X_train.copy()\n",
    "nn2_X_test = X_test.copy()\n",
    "nn2_oot = oot30.copy().drop('fraud_label', axis=1)\n",
    "nn2 = NN(hidden_layer_sizes = (5,), max_iter = 30).fit(nn2_X_train, y_train)"
   ]
  },
  {
   "cell_type": "code",
   "execution_count": 41,
   "metadata": {},
   "outputs": [],
   "source": [
    "nn3_X_train = X_train.copy()\n",
    "nn3_X_test = X_test.copy()\n",
    "nn3_oot = oot30.copy().drop('fraud_label', axis=1)\n",
    "nn3 = NN(hidden_layer_sizes = (15,), max_iter = 40).fit(nn3_X_train, y_train)"
   ]
  },
  {
   "cell_type": "code",
   "execution_count": 42,
   "metadata": {},
   "outputs": [],
   "source": [
    "nn4_X_train = X_train.copy()\n",
    "nn4_X_test = X_test.copy()\n",
    "nn4_oot = oot30.copy().drop('fraud_label', axis=1)\n",
    "nn4 = NN(hidden_layer_sizes = (5,), max_iter = 40, learning_rate = 'adaptive').fit(nn4_X_train, y_train)"
   ]
  },
  {
   "cell_type": "code",
   "execution_count": 43,
   "metadata": {},
   "outputs": [],
   "source": [
    "nn5_X_train = X_train.copy()\n",
    "nn5_X_test = X_test.copy()\n",
    "nn5_oot = oot30.copy().drop('fraud_label', axis=1)\n",
    "nn5 = NN(hidden_layer_sizes = (5,), max_iter = 40, activation = 'tanh').fit(nn5_X_train, y_train)"
   ]
  },
  {
   "cell_type": "markdown",
   "metadata": {},
   "source": [
    "### Boosted Tree"
   ]
  },
  {
   "cell_type": "code",
   "execution_count": 44,
   "metadata": {},
   "outputs": [],
   "source": [
    "from sklearn.ensemble import GradientBoostingClassifier as GBC"
   ]
  },
  {
   "cell_type": "code",
   "execution_count": 45,
   "metadata": {},
   "outputs": [],
   "source": [
    "bt1_X_train = X_train.copy()\n",
    "bt1_X_test = X_test.copy()\n",
    "bt1_oot = oot30.copy().drop('fraud_label', axis=1)\n",
    "bt1 = GBC(n_estimators = 500, max_depth = 3).fit(bt1_X_train, y_train)"
   ]
  },
  {
   "cell_type": "code",
   "execution_count": 46,
   "metadata": {},
   "outputs": [],
   "source": [
    "bt2_X_train = X_train.copy()\n",
    "bt2_X_test = X_test.copy()\n",
    "bt2_oot = oot30.copy().drop('fraud_label', axis=1)\n",
    "bt2 = GBC(n_estimators = 750, max_depth = 4).fit(bt2_X_train, y_train)"
   ]
  },
  {
   "cell_type": "code",
   "execution_count": 47,
   "metadata": {},
   "outputs": [],
   "source": [
    "bt3_X_train = X_train.copy()\n",
    "bt3_X_test = X_test.copy()\n",
    "bt3_oot = oot30.copy().drop('fraud_label', axis=1)\n",
    "bt3 = GBC(n_estimators = 500, max_depth = 3, loss = 'exponential').fit(bt1_X_train, y_train)"
   ]
  },
  {
   "cell_type": "code",
   "execution_count": 48,
   "metadata": {},
   "outputs": [],
   "source": [
    "bt4_X_train = X_train.copy()\n",
    "bt4_X_test = X_test.copy()\n",
    "bt4_oot = oot30.copy().drop('fraud_label', axis=1)\n",
    "bt4 = GBC(n_estimators = 500, max_depth = 3, learning_rate = 0.01).fit(bt4_X_train, y_train)"
   ]
  },
  {
   "cell_type": "code",
   "execution_count": 49,
   "metadata": {},
   "outputs": [],
   "source": [
    "bt5_X_train = X_train.copy()\n",
    "bt5_X_test = X_test.copy()\n",
    "bt5_oot = oot30.copy().drop('fraud_label', axis=1)\n",
    "bt5 = GBC(n_estimators = 1000, max_depth = 3, learning_rate = 0.001).fit(bt5_X_train, y_train)"
   ]
  },
  {
   "cell_type": "markdown",
   "metadata": {},
   "source": [
    "## Get FDR for all models "
   ]
  },
  {
   "cell_type": "code",
   "execution_count": 50,
   "metadata": {},
   "outputs": [],
   "source": [
    "modList = [lr1, lr2, lr3, lr4, lr5, lr6, rf1, rf2, rf3, rf4, rf5, rf6, rf7, nn1, nn2, nn3, nn4, nn5, bt1, bt2, bt3, bt4, bt5]\n",
    "train_list = [lr1_X_train, lr2_X_train, lr3_X_train, lr4_X_train, lr5_X_train, lr6_X_train, rf1_X_train, \\\n",
    "             rf2_X_train, rf3_X_train, rf4_X_train, rf5_X_train, rf6_X_train, rf7_X_train, nn1_X_train,\\\n",
    "             nn2_X_train, nn3_X_train, nn4_X_train, nn5_X_train, bt1_X_train, bt2_X_train, bt3_X_train, bt4_X_train, bt5_X_train]\n",
    "test_list = [lr1_X_test, lr2_X_test, lr3_X_test, lr4_X_test, lr5_X_test, lr6_X_test, rf1_X_test,\\\n",
    "            rf2_X_test, rf3_X_test, rf4_X_test, rf5_X_test, rf6_X_test, rf7_X_test, nn1_X_test, nn2_X_test, \\\n",
    "            nn3_X_test, nn4_X_test, nn5_X_test, bt1_X_test, bt2_X_test, bt3_X_test, bt4_X_train, bt5_X_train]\n",
    "oot_list = [lr1_oot, lr2_oot, lr3_oot, lr4_oot, lr5_oot, lr6_oot, rf1_oot, rf2_oot, rf3_oot, rf4_oot, rf5_oot, rf6_oot,\\\n",
    "           rf7_oot, nn1_oot, nn2_oot, nn3_oot, nn4_oot, nn5_oot, bt1_oot, bt2_oot, bt3_oot, bt4_oot, bt5_oot]"
   ]
  },
  {
   "cell_type": "markdown",
   "metadata": {},
   "source": [
    "### On the training data..."
   ]
  },
  {
   "cell_type": "code",
   "execution_count": 51,
   "metadata": {},
   "outputs": [],
   "source": [
    "training_FDRs = []\n",
    "i = 0\n",
    "for model in modList:\n",
    "    train_set = train_list[i]\n",
    "    i+=1\n",
    "    temp = train_set.copy()\n",
    "    temp['scores'] = 0\n",
    "    temp['scores'] = model.predict_proba(train_set)\n",
    "    cutpoint = int(len(temp)*(.03))\n",
    "    top3percent = temp.sort_values(by = 'scores', ascending = True).iloc[:cutpoint,:]\n",
    "    FDR = train_test30.loc[top3percent.index, 'fraud_label'].sum()/train_test30.loc[train_set.index, 'fraud_label'].sum()\n",
    "    training_FDRs.append(FDR)"
   ]
  },
  {
   "cell_type": "markdown",
   "metadata": {},
   "source": [
    "### On the testing data..."
   ]
  },
  {
   "cell_type": "code",
   "execution_count": 52,
   "metadata": {},
   "outputs": [],
   "source": [
    "testing_FDRs = []\n",
    "i = 0\n",
    "for model in modList:\n",
    "    test_set = test_list[i]\n",
    "    i+=1\n",
    "    temp = test_set.copy()\n",
    "    temp['scores'] = 0\n",
    "    temp['scores'] = model.predict_proba(test_set)\n",
    "    cutpoint = int(len(temp)*(.03))\n",
    "    top3percent = temp.sort_values(by = 'scores', ascending = True).iloc[:cutpoint,:]\n",
    "    FDR = train_test30.loc[top3percent.index, 'fraud_label'].sum()/train_test30.loc[test_set.index, 'fraud_label'].sum()\n",
    "    testing_FDRs.append(FDR)"
   ]
  },
  {
   "cell_type": "markdown",
   "metadata": {},
   "source": [
    "### And on the OOT data..."
   ]
  },
  {
   "cell_type": "code",
   "execution_count": 53,
   "metadata": {
    "scrolled": true
   },
   "outputs": [],
   "source": [
    "oot_FDRs = []\n",
    "i = 0\n",
    "for model in modList:\n",
    "    oot_set = oot_list[i]\n",
    "    i+=1\n",
    "    temp = oot_set.copy()\n",
    "    temp['scores'] = 0\n",
    "    temp['scores'] = model.predict_proba(oot_set)\n",
    "    cutpoint = int(len(temp)*(.03))\n",
    "    top3percent = temp.sort_values(by = 'scores', ascending = True).iloc[:cutpoint,:]\n",
    "    FDR = oot30.loc[top3percent.index, 'fraud_label'].sum()/oot30['fraud_label'].sum()\n",
    "    oot_FDRs.append(FDR)"
   ]
  },
  {
   "cell_type": "code",
   "execution_count": 58,
   "metadata": {},
   "outputs": [],
   "source": [
    "FDRdict = {'Model': modList, 'trainingFDR':training_FDRs, 'testingFDR':testing_FDRs, 'ootFDR':oot_FDRs}\n",
    "modelFDRs = pd.DataFrame(FDRdict)"
   ]
  },
  {
   "cell_type": "code",
   "execution_count": 59,
   "metadata": {
    "scrolled": true
   },
   "outputs": [
    {
     "data": {
      "text/html": [
       "<div>\n",
       "<style scoped>\n",
       "    .dataframe tbody tr th:only-of-type {\n",
       "        vertical-align: middle;\n",
       "    }\n",
       "\n",
       "    .dataframe tbody tr th {\n",
       "        vertical-align: top;\n",
       "    }\n",
       "\n",
       "    .dataframe thead th {\n",
       "        text-align: right;\n",
       "    }\n",
       "</style>\n",
       "<table border=\"1\" class=\"dataframe\">\n",
       "  <thead>\n",
       "    <tr style=\"text-align: right;\">\n",
       "      <th></th>\n",
       "      <th>Model</th>\n",
       "      <th>trainingFDR</th>\n",
       "      <th>testingFDR</th>\n",
       "      <th>ootFDR</th>\n",
       "    </tr>\n",
       "  </thead>\n",
       "  <tbody>\n",
       "    <tr>\n",
       "      <th>0</th>\n",
       "      <td>LogisticRegression(max_iter=2000, penalty='none')</td>\n",
       "      <td>0.559429</td>\n",
       "      <td>0.576069</td>\n",
       "      <td>0.538139</td>\n",
       "    </tr>\n",
       "    <tr>\n",
       "      <th>1</th>\n",
       "      <td>LogisticRegression(max_iter=2000, penalty='none')</td>\n",
       "      <td>0.288876</td>\n",
       "      <td>0.309550</td>\n",
       "      <td>0.254401</td>\n",
       "    </tr>\n",
       "    <tr>\n",
       "      <th>2</th>\n",
       "      <td>LogisticRegression(max_iter=2000, penalty='none')</td>\n",
       "      <td>0.346104</td>\n",
       "      <td>0.362299</td>\n",
       "      <td>0.318944</td>\n",
       "    </tr>\n",
       "    <tr>\n",
       "      <th>3</th>\n",
       "      <td>LogisticRegression(max_iter=2000, penalty='none')</td>\n",
       "      <td>0.536823</td>\n",
       "      <td>0.551360</td>\n",
       "      <td>0.521794</td>\n",
       "    </tr>\n",
       "    <tr>\n",
       "      <th>4</th>\n",
       "      <td>LogisticRegression(max_iter=2000, penalty='none')</td>\n",
       "      <td>0.529328</td>\n",
       "      <td>0.544420</td>\n",
       "      <td>0.514669</td>\n",
       "    </tr>\n",
       "    <tr>\n",
       "      <th>5</th>\n",
       "      <td>LogisticRegression(max_iter=2000, penalty='none')</td>\n",
       "      <td>0.527662</td>\n",
       "      <td>0.541921</td>\n",
       "      <td>0.515926</td>\n",
       "    </tr>\n",
       "    <tr>\n",
       "      <th>6</th>\n",
       "      <td>(DecisionTreeClassifier(max_depth=100, max_fea...</td>\n",
       "      <td>0.577513</td>\n",
       "      <td>0.587174</td>\n",
       "      <td>0.551551</td>\n",
       "    </tr>\n",
       "    <tr>\n",
       "      <th>7</th>\n",
       "      <td>(DecisionTreeClassifier(max_depth=100, max_fea...</td>\n",
       "      <td>0.577751</td>\n",
       "      <td>0.586063</td>\n",
       "      <td>0.552389</td>\n",
       "    </tr>\n",
       "    <tr>\n",
       "      <th>8</th>\n",
       "      <td>(DecisionTreeClassifier(max_depth=100, max_fea...</td>\n",
       "      <td>0.577870</td>\n",
       "      <td>0.586341</td>\n",
       "      <td>0.551132</td>\n",
       "    </tr>\n",
       "    <tr>\n",
       "      <th>9</th>\n",
       "      <td>(DecisionTreeClassifier(max_depth=200, max_fea...</td>\n",
       "      <td>0.577751</td>\n",
       "      <td>0.587451</td>\n",
       "      <td>0.551551</td>\n",
       "    </tr>\n",
       "    <tr>\n",
       "      <th>10</th>\n",
       "      <td>(DecisionTreeClassifier(max_depth=500, max_fea...</td>\n",
       "      <td>0.577513</td>\n",
       "      <td>0.587451</td>\n",
       "      <td>0.551970</td>\n",
       "    </tr>\n",
       "    <tr>\n",
       "      <th>11</th>\n",
       "      <td>(DecisionTreeClassifier(max_features='auto', m...</td>\n",
       "      <td>0.575491</td>\n",
       "      <td>0.587174</td>\n",
       "      <td>0.551551</td>\n",
       "    </tr>\n",
       "    <tr>\n",
       "      <th>12</th>\n",
       "      <td>(DecisionTreeClassifier(criterion='entropy', m...</td>\n",
       "      <td>0.577989</td>\n",
       "      <td>0.587451</td>\n",
       "      <td>0.552808</td>\n",
       "    </tr>\n",
       "    <tr>\n",
       "      <th>13</th>\n",
       "      <td>MLPClassifier(hidden_layer_sizes=(10,), max_it...</td>\n",
       "      <td>0.569780</td>\n",
       "      <td>0.586063</td>\n",
       "      <td>0.549036</td>\n",
       "    </tr>\n",
       "    <tr>\n",
       "      <th>14</th>\n",
       "      <td>MLPClassifier(hidden_layer_sizes=(5,), max_ite...</td>\n",
       "      <td>0.559786</td>\n",
       "      <td>0.576902</td>\n",
       "      <td>0.533529</td>\n",
       "    </tr>\n",
       "    <tr>\n",
       "      <th>15</th>\n",
       "      <td>MLPClassifier(hidden_layer_sizes=(15,), max_it...</td>\n",
       "      <td>0.567043</td>\n",
       "      <td>0.582454</td>\n",
       "      <td>0.543168</td>\n",
       "    </tr>\n",
       "    <tr>\n",
       "      <th>16</th>\n",
       "      <td>MLPClassifier(hidden_layer_sizes=(5,), learnin...</td>\n",
       "      <td>0.562165</td>\n",
       "      <td>0.577457</td>\n",
       "      <td>0.536044</td>\n",
       "    </tr>\n",
       "    <tr>\n",
       "      <th>17</th>\n",
       "      <td>MLPClassifier(activation='tanh', hidden_layer_...</td>\n",
       "      <td>0.566330</td>\n",
       "      <td>0.584675</td>\n",
       "      <td>0.544007</td>\n",
       "    </tr>\n",
       "    <tr>\n",
       "      <th>18</th>\n",
       "      <td>([DecisionTreeRegressor(criterion='friedman_ms...</td>\n",
       "      <td>0.572516</td>\n",
       "      <td>0.586896</td>\n",
       "      <td>0.550712</td>\n",
       "    </tr>\n",
       "    <tr>\n",
       "      <th>19</th>\n",
       "      <td>([DecisionTreeRegressor(criterion='friedman_ms...</td>\n",
       "      <td>0.576086</td>\n",
       "      <td>0.589117</td>\n",
       "      <td>0.553646</td>\n",
       "    </tr>\n",
       "    <tr>\n",
       "      <th>20</th>\n",
       "      <td>([DecisionTreeRegressor(criterion='friedman_ms...</td>\n",
       "      <td>0.575253</td>\n",
       "      <td>0.589950</td>\n",
       "      <td>0.553227</td>\n",
       "    </tr>\n",
       "    <tr>\n",
       "      <th>21</th>\n",
       "      <td>([DecisionTreeRegressor(criterion='friedman_ms...</td>\n",
       "      <td>0.563117</td>\n",
       "      <td>0.563117</td>\n",
       "      <td>0.541073</td>\n",
       "    </tr>\n",
       "    <tr>\n",
       "      <th>22</th>\n",
       "      <td>([DecisionTreeRegressor(criterion='friedman_ms...</td>\n",
       "      <td>0.535396</td>\n",
       "      <td>0.535396</td>\n",
       "      <td>0.516764</td>\n",
       "    </tr>\n",
       "  </tbody>\n",
       "</table>\n",
       "</div>"
      ],
      "text/plain": [
       "                                                Model  trainingFDR  \\\n",
       "0   LogisticRegression(max_iter=2000, penalty='none')     0.559429   \n",
       "1   LogisticRegression(max_iter=2000, penalty='none')     0.288876   \n",
       "2   LogisticRegression(max_iter=2000, penalty='none')     0.346104   \n",
       "3   LogisticRegression(max_iter=2000, penalty='none')     0.536823   \n",
       "4   LogisticRegression(max_iter=2000, penalty='none')     0.529328   \n",
       "5   LogisticRegression(max_iter=2000, penalty='none')     0.527662   \n",
       "6   (DecisionTreeClassifier(max_depth=100, max_fea...     0.577513   \n",
       "7   (DecisionTreeClassifier(max_depth=100, max_fea...     0.577751   \n",
       "8   (DecisionTreeClassifier(max_depth=100, max_fea...     0.577870   \n",
       "9   (DecisionTreeClassifier(max_depth=200, max_fea...     0.577751   \n",
       "10  (DecisionTreeClassifier(max_depth=500, max_fea...     0.577513   \n",
       "11  (DecisionTreeClassifier(max_features='auto', m...     0.575491   \n",
       "12  (DecisionTreeClassifier(criterion='entropy', m...     0.577989   \n",
       "13  MLPClassifier(hidden_layer_sizes=(10,), max_it...     0.569780   \n",
       "14  MLPClassifier(hidden_layer_sizes=(5,), max_ite...     0.559786   \n",
       "15  MLPClassifier(hidden_layer_sizes=(15,), max_it...     0.567043   \n",
       "16  MLPClassifier(hidden_layer_sizes=(5,), learnin...     0.562165   \n",
       "17  MLPClassifier(activation='tanh', hidden_layer_...     0.566330   \n",
       "18  ([DecisionTreeRegressor(criterion='friedman_ms...     0.572516   \n",
       "19  ([DecisionTreeRegressor(criterion='friedman_ms...     0.576086   \n",
       "20  ([DecisionTreeRegressor(criterion='friedman_ms...     0.575253   \n",
       "21  ([DecisionTreeRegressor(criterion='friedman_ms...     0.563117   \n",
       "22  ([DecisionTreeRegressor(criterion='friedman_ms...     0.535396   \n",
       "\n",
       "    testingFDR    ootFDR  \n",
       "0     0.576069  0.538139  \n",
       "1     0.309550  0.254401  \n",
       "2     0.362299  0.318944  \n",
       "3     0.551360  0.521794  \n",
       "4     0.544420  0.514669  \n",
       "5     0.541921  0.515926  \n",
       "6     0.587174  0.551551  \n",
       "7     0.586063  0.552389  \n",
       "8     0.586341  0.551132  \n",
       "9     0.587451  0.551551  \n",
       "10    0.587451  0.551970  \n",
       "11    0.587174  0.551551  \n",
       "12    0.587451  0.552808  \n",
       "13    0.586063  0.549036  \n",
       "14    0.576902  0.533529  \n",
       "15    0.582454  0.543168  \n",
       "16    0.577457  0.536044  \n",
       "17    0.584675  0.544007  \n",
       "18    0.586896  0.550712  \n",
       "19    0.589117  0.553646  \n",
       "20    0.589950  0.553227  \n",
       "21    0.563117  0.541073  \n",
       "22    0.535396  0.516764  "
      ]
     },
     "execution_count": 59,
     "metadata": {},
     "output_type": "execute_result"
    }
   ],
   "source": [
    "modelFDRs"
   ]
  },
  {
   "cell_type": "code",
   "execution_count": 55,
   "metadata": {},
   "outputs": [],
   "source": [
    "#modelFDRs.to_csv('modelFDR.csv')"
   ]
  }
 ],
 "metadata": {
  "kernelspec": {
   "display_name": "Python 3",
   "language": "python",
   "name": "python3"
  },
  "language_info": {
   "codemirror_mode": {
    "name": "ipython",
    "version": 3
   },
   "file_extension": ".py",
   "mimetype": "text/x-python",
   "name": "python",
   "nbconvert_exporter": "python",
   "pygments_lexer": "ipython3",
   "version": "3.8.5"
  }
 },
 "nbformat": 4,
 "nbformat_minor": 4
}
